{
 "cells": [
  {
   "cell_type": "code",
   "execution_count": 1,
   "metadata": {},
   "outputs": [],
   "source": [
    "import pandas as pd\n",
    "import seaborn as sns\n",
    "import numpy as np\n",
    "import matplotlib.pyplot as plt"
   ]
  },
  {
   "cell_type": "markdown",
   "metadata": {},
   "source": [
    "Reading the data from the CSV."
   ]
  },
  {
   "cell_type": "code",
   "execution_count": 2,
   "metadata": {},
   "outputs": [
    {
     "data": {
      "text/html": [
       "<div>\n",
       "<style scoped>\n",
       "    .dataframe tbody tr th:only-of-type {\n",
       "        vertical-align: middle;\n",
       "    }\n",
       "\n",
       "    .dataframe tbody tr th {\n",
       "        vertical-align: top;\n",
       "    }\n",
       "\n",
       "    .dataframe thead th {\n",
       "        text-align: right;\n",
       "    }\n",
       "</style>\n",
       "<table border=\"1\" class=\"dataframe\">\n",
       "  <thead>\n",
       "    <tr style=\"text-align: right;\">\n",
       "      <th></th>\n",
       "      <th>CRASH_RECORD_ID</th>\n",
       "      <th>CRASH_DATE</th>\n",
       "      <th>POSTED_SPEED_LIMIT</th>\n",
       "      <th>TRAFFIC_CONTROL_DEVICE</th>\n",
       "      <th>DEVICE_CONDITION</th>\n",
       "      <th>WEATHER_CONDITION</th>\n",
       "      <th>LIGHTING_CONDITION</th>\n",
       "      <th>FIRST_CRASH_TYPE</th>\n",
       "      <th>TRAFFICWAY_TYPE</th>\n",
       "      <th>ROADWAY_SURFACE_COND</th>\n",
       "      <th>...</th>\n",
       "      <th>PRIM_CONTRIBUTORY_CAUSE</th>\n",
       "      <th>NUM_UNITS</th>\n",
       "      <th>INJURIES_TOTAL</th>\n",
       "      <th>INJURIES_FATAL</th>\n",
       "      <th>INJURIES_INCAPACITATING</th>\n",
       "      <th>INJURIES_NON_INCAPACITATING</th>\n",
       "      <th>INJURIES_REPORTED_NOT_EVIDENT</th>\n",
       "      <th>CRASH_HOUR</th>\n",
       "      <th>CRASH_DAY_OF_WEEK</th>\n",
       "      <th>CRASH_MONTH</th>\n",
       "    </tr>\n",
       "  </thead>\n",
       "  <tbody>\n",
       "    <tr>\n",
       "      <th>0</th>\n",
       "      <td>4fd0a3e0897b3335b94cd8d5b2d2b350eb691add56c62d...</td>\n",
       "      <td>7/10/19 17:56</td>\n",
       "      <td>35</td>\n",
       "      <td>NO CONTROLS</td>\n",
       "      <td>NO CONTROLS</td>\n",
       "      <td>CLEAR</td>\n",
       "      <td>DAYLIGHT</td>\n",
       "      <td>TURNING</td>\n",
       "      <td>ONE-WAY</td>\n",
       "      <td>DRY</td>\n",
       "      <td>...</td>\n",
       "      <td>IMPROPER BACKING</td>\n",
       "      <td>2</td>\n",
       "      <td>0.0</td>\n",
       "      <td>0.0</td>\n",
       "      <td>0.0</td>\n",
       "      <td>0.0</td>\n",
       "      <td>0.0</td>\n",
       "      <td>17</td>\n",
       "      <td>4</td>\n",
       "      <td>7</td>\n",
       "    </tr>\n",
       "    <tr>\n",
       "      <th>1</th>\n",
       "      <td>009e9e67203442370272e1a13d6ee51a4155dac65e583d...</td>\n",
       "      <td>6/30/17 16:00</td>\n",
       "      <td>35</td>\n",
       "      <td>STOP SIGN/FLASHER</td>\n",
       "      <td>FUNCTIONING PROPERLY</td>\n",
       "      <td>CLEAR</td>\n",
       "      <td>DAYLIGHT</td>\n",
       "      <td>TURNING</td>\n",
       "      <td>NOT DIVIDED</td>\n",
       "      <td>DRY</td>\n",
       "      <td>...</td>\n",
       "      <td>FAILING TO YIELD RIGHT-OF-WAY</td>\n",
       "      <td>2</td>\n",
       "      <td>0.0</td>\n",
       "      <td>0.0</td>\n",
       "      <td>0.0</td>\n",
       "      <td>0.0</td>\n",
       "      <td>0.0</td>\n",
       "      <td>16</td>\n",
       "      <td>6</td>\n",
       "      <td>6</td>\n",
       "    </tr>\n",
       "    <tr>\n",
       "      <th>2</th>\n",
       "      <td>ee9283eff3a55ac50ee58f3d9528ce1d689b1c4180b4c4...</td>\n",
       "      <td>7/10/20 10:25</td>\n",
       "      <td>30</td>\n",
       "      <td>TRAFFIC SIGNAL</td>\n",
       "      <td>FUNCTIONING PROPERLY</td>\n",
       "      <td>CLEAR</td>\n",
       "      <td>DAYLIGHT</td>\n",
       "      <td>REAR END</td>\n",
       "      <td>FOUR WAY</td>\n",
       "      <td>DRY</td>\n",
       "      <td>...</td>\n",
       "      <td>FAILING TO YIELD RIGHT-OF-WAY</td>\n",
       "      <td>3</td>\n",
       "      <td>0.0</td>\n",
       "      <td>0.0</td>\n",
       "      <td>0.0</td>\n",
       "      <td>0.0</td>\n",
       "      <td>0.0</td>\n",
       "      <td>10</td>\n",
       "      <td>6</td>\n",
       "      <td>7</td>\n",
       "    </tr>\n",
       "    <tr>\n",
       "      <th>3</th>\n",
       "      <td>f8960f698e870ebdc60b521b2a141a5395556bc3704191...</td>\n",
       "      <td>7/11/20 1:00</td>\n",
       "      <td>30</td>\n",
       "      <td>NO CONTROLS</td>\n",
       "      <td>NO CONTROLS</td>\n",
       "      <td>CLEAR</td>\n",
       "      <td>DARKNESS</td>\n",
       "      <td>PARKED MOTOR VEHICLE</td>\n",
       "      <td>DIVIDED - W/MEDIAN (NOT RAISED)</td>\n",
       "      <td>DRY</td>\n",
       "      <td>...</td>\n",
       "      <td>UNABLE TO DETERMINE</td>\n",
       "      <td>2</td>\n",
       "      <td>0.0</td>\n",
       "      <td>0.0</td>\n",
       "      <td>0.0</td>\n",
       "      <td>0.0</td>\n",
       "      <td>0.0</td>\n",
       "      <td>1</td>\n",
       "      <td>7</td>\n",
       "      <td>7</td>\n",
       "    </tr>\n",
       "    <tr>\n",
       "      <th>4</th>\n",
       "      <td>8eaa2678d1a127804ee9b8c35ddf7d63d913c14eda61d6...</td>\n",
       "      <td>7/8/20 14:00</td>\n",
       "      <td>20</td>\n",
       "      <td>NO CONTROLS</td>\n",
       "      <td>NO CONTROLS</td>\n",
       "      <td>CLEAR</td>\n",
       "      <td>DAYLIGHT</td>\n",
       "      <td>PARKED MOTOR VEHICLE</td>\n",
       "      <td>DRIVEWAY</td>\n",
       "      <td>DRY</td>\n",
       "      <td>...</td>\n",
       "      <td>UNABLE TO DETERMINE</td>\n",
       "      <td>2</td>\n",
       "      <td>0.0</td>\n",
       "      <td>0.0</td>\n",
       "      <td>0.0</td>\n",
       "      <td>0.0</td>\n",
       "      <td>0.0</td>\n",
       "      <td>14</td>\n",
       "      <td>4</td>\n",
       "      <td>7</td>\n",
       "    </tr>\n",
       "    <tr>\n",
       "      <th>...</th>\n",
       "      <td>...</td>\n",
       "      <td>...</td>\n",
       "      <td>...</td>\n",
       "      <td>...</td>\n",
       "      <td>...</td>\n",
       "      <td>...</td>\n",
       "      <td>...</td>\n",
       "      <td>...</td>\n",
       "      <td>...</td>\n",
       "      <td>...</td>\n",
       "      <td>...</td>\n",
       "      <td>...</td>\n",
       "      <td>...</td>\n",
       "      <td>...</td>\n",
       "      <td>...</td>\n",
       "      <td>...</td>\n",
       "      <td>...</td>\n",
       "      <td>...</td>\n",
       "      <td>...</td>\n",
       "      <td>...</td>\n",
       "      <td>...</td>\n",
       "    </tr>\n",
       "    <tr>\n",
       "      <th>481618</th>\n",
       "      <td>276f2a5ce36d9aa08f7473daaf6b0061615475fc862f0d...</td>\n",
       "      <td>1/18/21 9:00</td>\n",
       "      <td>30</td>\n",
       "      <td>NO CONTROLS</td>\n",
       "      <td>NO CONTROLS</td>\n",
       "      <td>UNKNOWN</td>\n",
       "      <td>UNKNOWN</td>\n",
       "      <td>PARKED MOTOR VEHICLE</td>\n",
       "      <td>NOT DIVIDED</td>\n",
       "      <td>UNKNOWN</td>\n",
       "      <td>...</td>\n",
       "      <td>UNABLE TO DETERMINE</td>\n",
       "      <td>2</td>\n",
       "      <td>0.0</td>\n",
       "      <td>0.0</td>\n",
       "      <td>0.0</td>\n",
       "      <td>0.0</td>\n",
       "      <td>0.0</td>\n",
       "      <td>9</td>\n",
       "      <td>2</td>\n",
       "      <td>1</td>\n",
       "    </tr>\n",
       "    <tr>\n",
       "      <th>481619</th>\n",
       "      <td>71a084086041d7adc696d9fd71f3cb2d552b9ce93787ba...</td>\n",
       "      <td>1/19/21 21:23</td>\n",
       "      <td>25</td>\n",
       "      <td>NO CONTROLS</td>\n",
       "      <td>UNKNOWN</td>\n",
       "      <td>SNOW</td>\n",
       "      <td>DARKNESS</td>\n",
       "      <td>PARKED MOTOR VEHICLE</td>\n",
       "      <td>ONE-WAY</td>\n",
       "      <td>SNOW OR SLUSH</td>\n",
       "      <td>...</td>\n",
       "      <td>NOT APPLICABLE</td>\n",
       "      <td>3</td>\n",
       "      <td>0.0</td>\n",
       "      <td>0.0</td>\n",
       "      <td>0.0</td>\n",
       "      <td>0.0</td>\n",
       "      <td>0.0</td>\n",
       "      <td>21</td>\n",
       "      <td>3</td>\n",
       "      <td>1</td>\n",
       "    </tr>\n",
       "    <tr>\n",
       "      <th>481620</th>\n",
       "      <td>28c5281550170efd701934c4cd5f8896b96d43c20c152d...</td>\n",
       "      <td>1/20/21 20:20</td>\n",
       "      <td>30</td>\n",
       "      <td>NO CONTROLS</td>\n",
       "      <td>NO CONTROLS</td>\n",
       "      <td>CLEAR</td>\n",
       "      <td>DARKNESS, LIGHTED ROAD</td>\n",
       "      <td>PARKED MOTOR VEHICLE</td>\n",
       "      <td>DIVIDED - W/MEDIAN BARRIER</td>\n",
       "      <td>WET</td>\n",
       "      <td>...</td>\n",
       "      <td>UNABLE TO DETERMINE</td>\n",
       "      <td>2</td>\n",
       "      <td>0.0</td>\n",
       "      <td>0.0</td>\n",
       "      <td>0.0</td>\n",
       "      <td>0.0</td>\n",
       "      <td>0.0</td>\n",
       "      <td>20</td>\n",
       "      <td>4</td>\n",
       "      <td>1</td>\n",
       "    </tr>\n",
       "    <tr>\n",
       "      <th>481621</th>\n",
       "      <td>4983c1d0944603c5e93b599df3ad9c33b4863a6250691b...</td>\n",
       "      <td>1/20/21 17:00</td>\n",
       "      <td>30</td>\n",
       "      <td>TRAFFIC SIGNAL</td>\n",
       "      <td>FUNCTIONING PROPERLY</td>\n",
       "      <td>CLEAR</td>\n",
       "      <td>DARKNESS, LIGHTED ROAD</td>\n",
       "      <td>TURNING</td>\n",
       "      <td>FOUR WAY</td>\n",
       "      <td>DRY</td>\n",
       "      <td>...</td>\n",
       "      <td>FAILING TO YIELD RIGHT-OF-WAY</td>\n",
       "      <td>2</td>\n",
       "      <td>0.0</td>\n",
       "      <td>0.0</td>\n",
       "      <td>0.0</td>\n",
       "      <td>0.0</td>\n",
       "      <td>0.0</td>\n",
       "      <td>17</td>\n",
       "      <td>4</td>\n",
       "      <td>1</td>\n",
       "    </tr>\n",
       "    <tr>\n",
       "      <th>481622</th>\n",
       "      <td>f1dba052d8fc8c80d3d693296ff8e0d7cc71d5929677b0...</td>\n",
       "      <td>1/20/21 17:50</td>\n",
       "      <td>30</td>\n",
       "      <td>NO CONTROLS</td>\n",
       "      <td>NO CONTROLS</td>\n",
       "      <td>CLEAR</td>\n",
       "      <td>DARKNESS, LIGHTED ROAD</td>\n",
       "      <td>REAR END</td>\n",
       "      <td>NOT DIVIDED</td>\n",
       "      <td>DRY</td>\n",
       "      <td>...</td>\n",
       "      <td>UNABLE TO DETERMINE</td>\n",
       "      <td>2</td>\n",
       "      <td>0.0</td>\n",
       "      <td>0.0</td>\n",
       "      <td>0.0</td>\n",
       "      <td>0.0</td>\n",
       "      <td>0.0</td>\n",
       "      <td>17</td>\n",
       "      <td>4</td>\n",
       "      <td>1</td>\n",
       "    </tr>\n",
       "  </tbody>\n",
       "</table>\n",
       "<p>481623 rows × 27 columns</p>\n",
       "</div>"
      ],
      "text/plain": [
       "                                          CRASH_RECORD_ID     CRASH_DATE  \\\n",
       "0       4fd0a3e0897b3335b94cd8d5b2d2b350eb691add56c62d...  7/10/19 17:56   \n",
       "1       009e9e67203442370272e1a13d6ee51a4155dac65e583d...  6/30/17 16:00   \n",
       "2       ee9283eff3a55ac50ee58f3d9528ce1d689b1c4180b4c4...  7/10/20 10:25   \n",
       "3       f8960f698e870ebdc60b521b2a141a5395556bc3704191...   7/11/20 1:00   \n",
       "4       8eaa2678d1a127804ee9b8c35ddf7d63d913c14eda61d6...   7/8/20 14:00   \n",
       "...                                                   ...            ...   \n",
       "481618  276f2a5ce36d9aa08f7473daaf6b0061615475fc862f0d...   1/18/21 9:00   \n",
       "481619  71a084086041d7adc696d9fd71f3cb2d552b9ce93787ba...  1/19/21 21:23   \n",
       "481620  28c5281550170efd701934c4cd5f8896b96d43c20c152d...  1/20/21 20:20   \n",
       "481621  4983c1d0944603c5e93b599df3ad9c33b4863a6250691b...  1/20/21 17:00   \n",
       "481622  f1dba052d8fc8c80d3d693296ff8e0d7cc71d5929677b0...  1/20/21 17:50   \n",
       "\n",
       "        POSTED_SPEED_LIMIT TRAFFIC_CONTROL_DEVICE      DEVICE_CONDITION  \\\n",
       "0                       35            NO CONTROLS           NO CONTROLS   \n",
       "1                       35      STOP SIGN/FLASHER  FUNCTIONING PROPERLY   \n",
       "2                       30         TRAFFIC SIGNAL  FUNCTIONING PROPERLY   \n",
       "3                       30            NO CONTROLS           NO CONTROLS   \n",
       "4                       20            NO CONTROLS           NO CONTROLS   \n",
       "...                    ...                    ...                   ...   \n",
       "481618                  30            NO CONTROLS           NO CONTROLS   \n",
       "481619                  25            NO CONTROLS               UNKNOWN   \n",
       "481620                  30            NO CONTROLS           NO CONTROLS   \n",
       "481621                  30         TRAFFIC SIGNAL  FUNCTIONING PROPERLY   \n",
       "481622                  30            NO CONTROLS           NO CONTROLS   \n",
       "\n",
       "       WEATHER_CONDITION      LIGHTING_CONDITION      FIRST_CRASH_TYPE  \\\n",
       "0                  CLEAR                DAYLIGHT               TURNING   \n",
       "1                  CLEAR                DAYLIGHT               TURNING   \n",
       "2                  CLEAR                DAYLIGHT              REAR END   \n",
       "3                  CLEAR                DARKNESS  PARKED MOTOR VEHICLE   \n",
       "4                  CLEAR                DAYLIGHT  PARKED MOTOR VEHICLE   \n",
       "...                  ...                     ...                   ...   \n",
       "481618           UNKNOWN                 UNKNOWN  PARKED MOTOR VEHICLE   \n",
       "481619              SNOW                DARKNESS  PARKED MOTOR VEHICLE   \n",
       "481620             CLEAR  DARKNESS, LIGHTED ROAD  PARKED MOTOR VEHICLE   \n",
       "481621             CLEAR  DARKNESS, LIGHTED ROAD               TURNING   \n",
       "481622             CLEAR  DARKNESS, LIGHTED ROAD              REAR END   \n",
       "\n",
       "                        TRAFFICWAY_TYPE ROADWAY_SURFACE_COND  ...  \\\n",
       "0                               ONE-WAY                  DRY  ...   \n",
       "1                           NOT DIVIDED                  DRY  ...   \n",
       "2                              FOUR WAY                  DRY  ...   \n",
       "3       DIVIDED - W/MEDIAN (NOT RAISED)                  DRY  ...   \n",
       "4                              DRIVEWAY                  DRY  ...   \n",
       "...                                 ...                  ...  ...   \n",
       "481618                      NOT DIVIDED              UNKNOWN  ...   \n",
       "481619                          ONE-WAY        SNOW OR SLUSH  ...   \n",
       "481620       DIVIDED - W/MEDIAN BARRIER                  WET  ...   \n",
       "481621                         FOUR WAY                  DRY  ...   \n",
       "481622                      NOT DIVIDED                  DRY  ...   \n",
       "\n",
       "              PRIM_CONTRIBUTORY_CAUSE NUM_UNITS INJURIES_TOTAL INJURIES_FATAL  \\\n",
       "0                    IMPROPER BACKING         2            0.0            0.0   \n",
       "1       FAILING TO YIELD RIGHT-OF-WAY         2            0.0            0.0   \n",
       "2       FAILING TO YIELD RIGHT-OF-WAY         3            0.0            0.0   \n",
       "3                 UNABLE TO DETERMINE         2            0.0            0.0   \n",
       "4                 UNABLE TO DETERMINE         2            0.0            0.0   \n",
       "...                               ...       ...            ...            ...   \n",
       "481618            UNABLE TO DETERMINE         2            0.0            0.0   \n",
       "481619                 NOT APPLICABLE         3            0.0            0.0   \n",
       "481620            UNABLE TO DETERMINE         2            0.0            0.0   \n",
       "481621  FAILING TO YIELD RIGHT-OF-WAY         2            0.0            0.0   \n",
       "481622            UNABLE TO DETERMINE         2            0.0            0.0   \n",
       "\n",
       "       INJURIES_INCAPACITATING INJURIES_NON_INCAPACITATING  \\\n",
       "0                          0.0                         0.0   \n",
       "1                          0.0                         0.0   \n",
       "2                          0.0                         0.0   \n",
       "3                          0.0                         0.0   \n",
       "4                          0.0                         0.0   \n",
       "...                        ...                         ...   \n",
       "481618                     0.0                         0.0   \n",
       "481619                     0.0                         0.0   \n",
       "481620                     0.0                         0.0   \n",
       "481621                     0.0                         0.0   \n",
       "481622                     0.0                         0.0   \n",
       "\n",
       "       INJURIES_REPORTED_NOT_EVIDENT CRASH_HOUR  CRASH_DAY_OF_WEEK  \\\n",
       "0                                0.0         17                  4   \n",
       "1                                0.0         16                  6   \n",
       "2                                0.0         10                  6   \n",
       "3                                0.0          1                  7   \n",
       "4                                0.0         14                  4   \n",
       "...                              ...        ...                ...   \n",
       "481618                           0.0          9                  2   \n",
       "481619                           0.0         21                  3   \n",
       "481620                           0.0         20                  4   \n",
       "481621                           0.0         17                  4   \n",
       "481622                           0.0         17                  4   \n",
       "\n",
       "        CRASH_MONTH  \n",
       "0                 7  \n",
       "1                 6  \n",
       "2                 7  \n",
       "3                 7  \n",
       "4                 7  \n",
       "...             ...  \n",
       "481618            1  \n",
       "481619            1  \n",
       "481620            1  \n",
       "481621            1  \n",
       "481622            1  \n",
       "\n",
       "[481623 rows x 27 columns]"
      ]
     },
     "execution_count": 2,
     "metadata": {},
     "output_type": "execute_result"
    }
   ],
   "source": [
    "df = pd.read_csv('Traffic_Crashes_-_Crashes.csv')\n",
    "df"
   ]
  },
  {
   "cell_type": "markdown",
   "metadata": {},
   "source": [
    "1. Cleaning the data"
   ]
  },
  {
   "cell_type": "code",
   "execution_count": 3,
   "metadata": {},
   "outputs": [
    {
     "data": {
      "text/plain": [
       "CRASH_RECORD_ID                   0.00\n",
       "CRASH_DATE                        0.00\n",
       "POSTED_SPEED_LIMIT                0.00\n",
       "TRAFFIC_CONTROL_DEVICE            0.00\n",
       "DEVICE_CONDITION                  0.00\n",
       "WEATHER_CONDITION                 0.00\n",
       "LIGHTING_CONDITION                0.00\n",
       "FIRST_CRASH_TYPE                  0.00\n",
       "TRAFFICWAY_TYPE                   0.00\n",
       "ROADWAY_SURFACE_COND              0.00\n",
       "ROAD_DEFECT                       0.00\n",
       "CRASH_TYPE                        0.00\n",
       "INTERSECTION_RELATED_I           77.44\n",
       "NOT_RIGHT_OF_WAY                 95.30\n",
       "HIT_AND_RUN_I                    70.63\n",
       "DAMAGE                            0.00\n",
       "DATE_POLICE_NOTIFIED              0.00\n",
       "PRIM_CONTRIBUTORY_CAUSE           0.00\n",
       "NUM_UNITS                         0.00\n",
       "INJURIES_TOTAL                    0.20\n",
       "INJURIES_FATAL                    0.20\n",
       "INJURIES_INCAPACITATING           0.20\n",
       "INJURIES_NON_INCAPACITATING       0.20\n",
       "INJURIES_REPORTED_NOT_EVIDENT     0.20\n",
       "CRASH_HOUR                        0.00\n",
       "CRASH_DAY_OF_WEEK                 0.00\n",
       "CRASH_MONTH                       0.00\n",
       "dtype: float64"
      ]
     },
     "execution_count": 3,
     "metadata": {},
     "output_type": "execute_result"
    }
   ],
   "source": [
    "round(df.isnull().mean()*100,2) \n"
   ]
  },
  {
   "cell_type": "markdown",
   "metadata": {},
   "source": [
    "As per the data, the following fields missing data percentage: \n",
    "INTERSECTION_RELATED_I           77.44\n",
    "NOT_RIGHT_OF_WAY                 95.30\n",
    "HIT_AND_RUN_I                    70.63\n",
    "INJURIES_TOTAL                    0.20\n",
    "INJURIES_FATAL                    0.20\n",
    "INJURIES_INCAPACITATING           0.20\n",
    "INJURIES_NON_INCAPACITATING       0.20\n",
    "INJURIES_REPORTED_NOT_EVIDENT     0.20\n",
    "\n",
    "Filling the fields \n",
    "INTERSECTION_RELATED_I,NOT_RIGHT_OF_WAY,HIT_AND_RUN_I with NA\n",
    "INJURIES_TOTAL,INJURIES_FATAL,INJURIES_INCAPACITATING,INJURIES_NON_INCAPACITATING,INJURIES_REPORTED_NOT_EVIDENT with NA"
   ]
  },
  {
   "cell_type": "code",
   "execution_count": 4,
   "metadata": {},
   "outputs": [],
   "source": [
    "df['INTERSECTION_RELATED_I'] = df['INTERSECTION_RELATED_I'].fillna('NA')\n",
    "df['NOT_RIGHT_OF_WAY'] = df['NOT_RIGHT_OF_WAY'].fillna('NA')\n",
    "df['HIT_AND_RUN_I'] = df['HIT_AND_RUN_I'].fillna('NA')\n",
    "\n",
    "df['INJURIES_TOTAL'] = df['INJURIES_TOTAL'].fillna('NA')\n",
    "df['INJURIES_FATAL'] = df['INJURIES_FATAL'].fillna('NA')\n",
    "df['INJURIES_INCAPACITATING'] = df['INJURIES_INCAPACITATING'].fillna('NA')\n",
    "df['INJURIES_NON_INCAPACITATING'] = df['INJURIES_NON_INCAPACITATING'].fillna('NA')\n",
    "df['INJURIES_REPORTED_NOT_EVIDENT'] = df['INJURIES_REPORTED_NOT_EVIDENT'].fillna('NA')\n"
   ]
  },
  {
   "cell_type": "markdown",
   "metadata": {},
   "source": [
    "2.Are there other attributes that you can break down into smaller attributes to gain more information from? \n",
    "\n",
    "Breaking the DATE_POLICE_NOTIFIED into different sections"
   ]
  },
  {
   "cell_type": "code",
   "execution_count": 5,
   "metadata": {},
   "outputs": [
    {
     "data": {
      "text/html": [
       "<div>\n",
       "<style scoped>\n",
       "    .dataframe tbody tr th:only-of-type {\n",
       "        vertical-align: middle;\n",
       "    }\n",
       "\n",
       "    .dataframe tbody tr th {\n",
       "        vertical-align: top;\n",
       "    }\n",
       "\n",
       "    .dataframe thead th {\n",
       "        text-align: right;\n",
       "    }\n",
       "</style>\n",
       "<table border=\"1\" class=\"dataframe\">\n",
       "  <thead>\n",
       "    <tr style=\"text-align: right;\">\n",
       "      <th></th>\n",
       "      <th>CRASH_RECORD_ID</th>\n",
       "      <th>CRASH_DATE</th>\n",
       "      <th>POSTED_SPEED_LIMIT</th>\n",
       "      <th>TRAFFIC_CONTROL_DEVICE</th>\n",
       "      <th>DEVICE_CONDITION</th>\n",
       "      <th>WEATHER_CONDITION</th>\n",
       "      <th>LIGHTING_CONDITION</th>\n",
       "      <th>FIRST_CRASH_TYPE</th>\n",
       "      <th>TRAFFICWAY_TYPE</th>\n",
       "      <th>ROADWAY_SURFACE_COND</th>\n",
       "      <th>...</th>\n",
       "      <th>INJURIES_FATAL</th>\n",
       "      <th>INJURIES_INCAPACITATING</th>\n",
       "      <th>INJURIES_NON_INCAPACITATING</th>\n",
       "      <th>INJURIES_REPORTED_NOT_EVIDENT</th>\n",
       "      <th>CRASH_HOUR</th>\n",
       "      <th>CRASH_DAY_OF_WEEK</th>\n",
       "      <th>CRASH_MONTH</th>\n",
       "      <th>POLICE_NOTIFIED_HOUR</th>\n",
       "      <th>POLICE_NOTIFIED_MONTH</th>\n",
       "      <th>POLICE_NOTIFIED_DAYOFWEEK</th>\n",
       "    </tr>\n",
       "  </thead>\n",
       "  <tbody>\n",
       "    <tr>\n",
       "      <th>0</th>\n",
       "      <td>4fd0a3e0897b3335b94cd8d5b2d2b350eb691add56c62d...</td>\n",
       "      <td>7/10/19 17:56</td>\n",
       "      <td>35</td>\n",
       "      <td>NO CONTROLS</td>\n",
       "      <td>NO CONTROLS</td>\n",
       "      <td>CLEAR</td>\n",
       "      <td>DAYLIGHT</td>\n",
       "      <td>TURNING</td>\n",
       "      <td>ONE-WAY</td>\n",
       "      <td>DRY</td>\n",
       "      <td>...</td>\n",
       "      <td>0.0</td>\n",
       "      <td>0.0</td>\n",
       "      <td>0.0</td>\n",
       "      <td>0.0</td>\n",
       "      <td>17</td>\n",
       "      <td>4</td>\n",
       "      <td>7</td>\n",
       "      <td>18</td>\n",
       "      <td>7</td>\n",
       "      <td>2</td>\n",
       "    </tr>\n",
       "    <tr>\n",
       "      <th>1</th>\n",
       "      <td>009e9e67203442370272e1a13d6ee51a4155dac65e583d...</td>\n",
       "      <td>6/30/17 16:00</td>\n",
       "      <td>35</td>\n",
       "      <td>STOP SIGN/FLASHER</td>\n",
       "      <td>FUNCTIONING PROPERLY</td>\n",
       "      <td>CLEAR</td>\n",
       "      <td>DAYLIGHT</td>\n",
       "      <td>TURNING</td>\n",
       "      <td>NOT DIVIDED</td>\n",
       "      <td>DRY</td>\n",
       "      <td>...</td>\n",
       "      <td>0.0</td>\n",
       "      <td>0.0</td>\n",
       "      <td>0.0</td>\n",
       "      <td>0.0</td>\n",
       "      <td>16</td>\n",
       "      <td>6</td>\n",
       "      <td>6</td>\n",
       "      <td>16</td>\n",
       "      <td>6</td>\n",
       "      <td>4</td>\n",
       "    </tr>\n",
       "    <tr>\n",
       "      <th>2</th>\n",
       "      <td>ee9283eff3a55ac50ee58f3d9528ce1d689b1c4180b4c4...</td>\n",
       "      <td>7/10/20 10:25</td>\n",
       "      <td>30</td>\n",
       "      <td>TRAFFIC SIGNAL</td>\n",
       "      <td>FUNCTIONING PROPERLY</td>\n",
       "      <td>CLEAR</td>\n",
       "      <td>DAYLIGHT</td>\n",
       "      <td>REAR END</td>\n",
       "      <td>FOUR WAY</td>\n",
       "      <td>DRY</td>\n",
       "      <td>...</td>\n",
       "      <td>0.0</td>\n",
       "      <td>0.0</td>\n",
       "      <td>0.0</td>\n",
       "      <td>0.0</td>\n",
       "      <td>10</td>\n",
       "      <td>6</td>\n",
       "      <td>7</td>\n",
       "      <td>10</td>\n",
       "      <td>7</td>\n",
       "      <td>4</td>\n",
       "    </tr>\n",
       "    <tr>\n",
       "      <th>3</th>\n",
       "      <td>f8960f698e870ebdc60b521b2a141a5395556bc3704191...</td>\n",
       "      <td>7/11/20 1:00</td>\n",
       "      <td>30</td>\n",
       "      <td>NO CONTROLS</td>\n",
       "      <td>NO CONTROLS</td>\n",
       "      <td>CLEAR</td>\n",
       "      <td>DARKNESS</td>\n",
       "      <td>PARKED MOTOR VEHICLE</td>\n",
       "      <td>DIVIDED - W/MEDIAN (NOT RAISED)</td>\n",
       "      <td>DRY</td>\n",
       "      <td>...</td>\n",
       "      <td>0.0</td>\n",
       "      <td>0.0</td>\n",
       "      <td>0.0</td>\n",
       "      <td>0.0</td>\n",
       "      <td>1</td>\n",
       "      <td>7</td>\n",
       "      <td>7</td>\n",
       "      <td>8</td>\n",
       "      <td>7</td>\n",
       "      <td>5</td>\n",
       "    </tr>\n",
       "    <tr>\n",
       "      <th>4</th>\n",
       "      <td>8eaa2678d1a127804ee9b8c35ddf7d63d913c14eda61d6...</td>\n",
       "      <td>7/8/20 14:00</td>\n",
       "      <td>20</td>\n",
       "      <td>NO CONTROLS</td>\n",
       "      <td>NO CONTROLS</td>\n",
       "      <td>CLEAR</td>\n",
       "      <td>DAYLIGHT</td>\n",
       "      <td>PARKED MOTOR VEHICLE</td>\n",
       "      <td>DRIVEWAY</td>\n",
       "      <td>DRY</td>\n",
       "      <td>...</td>\n",
       "      <td>0.0</td>\n",
       "      <td>0.0</td>\n",
       "      <td>0.0</td>\n",
       "      <td>0.0</td>\n",
       "      <td>14</td>\n",
       "      <td>4</td>\n",
       "      <td>7</td>\n",
       "      <td>14</td>\n",
       "      <td>7</td>\n",
       "      <td>2</td>\n",
       "    </tr>\n",
       "    <tr>\n",
       "      <th>...</th>\n",
       "      <td>...</td>\n",
       "      <td>...</td>\n",
       "      <td>...</td>\n",
       "      <td>...</td>\n",
       "      <td>...</td>\n",
       "      <td>...</td>\n",
       "      <td>...</td>\n",
       "      <td>...</td>\n",
       "      <td>...</td>\n",
       "      <td>...</td>\n",
       "      <td>...</td>\n",
       "      <td>...</td>\n",
       "      <td>...</td>\n",
       "      <td>...</td>\n",
       "      <td>...</td>\n",
       "      <td>...</td>\n",
       "      <td>...</td>\n",
       "      <td>...</td>\n",
       "      <td>...</td>\n",
       "      <td>...</td>\n",
       "      <td>...</td>\n",
       "    </tr>\n",
       "    <tr>\n",
       "      <th>481618</th>\n",
       "      <td>276f2a5ce36d9aa08f7473daaf6b0061615475fc862f0d...</td>\n",
       "      <td>1/18/21 9:00</td>\n",
       "      <td>30</td>\n",
       "      <td>NO CONTROLS</td>\n",
       "      <td>NO CONTROLS</td>\n",
       "      <td>UNKNOWN</td>\n",
       "      <td>UNKNOWN</td>\n",
       "      <td>PARKED MOTOR VEHICLE</td>\n",
       "      <td>NOT DIVIDED</td>\n",
       "      <td>UNKNOWN</td>\n",
       "      <td>...</td>\n",
       "      <td>0.0</td>\n",
       "      <td>0.0</td>\n",
       "      <td>0.0</td>\n",
       "      <td>0.0</td>\n",
       "      <td>9</td>\n",
       "      <td>2</td>\n",
       "      <td>1</td>\n",
       "      <td>20</td>\n",
       "      <td>1</td>\n",
       "      <td>1</td>\n",
       "    </tr>\n",
       "    <tr>\n",
       "      <th>481619</th>\n",
       "      <td>71a084086041d7adc696d9fd71f3cb2d552b9ce93787ba...</td>\n",
       "      <td>1/19/21 21:23</td>\n",
       "      <td>25</td>\n",
       "      <td>NO CONTROLS</td>\n",
       "      <td>UNKNOWN</td>\n",
       "      <td>SNOW</td>\n",
       "      <td>DARKNESS</td>\n",
       "      <td>PARKED MOTOR VEHICLE</td>\n",
       "      <td>ONE-WAY</td>\n",
       "      <td>SNOW OR SLUSH</td>\n",
       "      <td>...</td>\n",
       "      <td>0.0</td>\n",
       "      <td>0.0</td>\n",
       "      <td>0.0</td>\n",
       "      <td>0.0</td>\n",
       "      <td>21</td>\n",
       "      <td>3</td>\n",
       "      <td>1</td>\n",
       "      <td>21</td>\n",
       "      <td>1</td>\n",
       "      <td>1</td>\n",
       "    </tr>\n",
       "    <tr>\n",
       "      <th>481620</th>\n",
       "      <td>28c5281550170efd701934c4cd5f8896b96d43c20c152d...</td>\n",
       "      <td>1/20/21 20:20</td>\n",
       "      <td>30</td>\n",
       "      <td>NO CONTROLS</td>\n",
       "      <td>NO CONTROLS</td>\n",
       "      <td>CLEAR</td>\n",
       "      <td>DARKNESS, LIGHTED ROAD</td>\n",
       "      <td>PARKED MOTOR VEHICLE</td>\n",
       "      <td>DIVIDED - W/MEDIAN BARRIER</td>\n",
       "      <td>WET</td>\n",
       "      <td>...</td>\n",
       "      <td>0.0</td>\n",
       "      <td>0.0</td>\n",
       "      <td>0.0</td>\n",
       "      <td>0.0</td>\n",
       "      <td>20</td>\n",
       "      <td>4</td>\n",
       "      <td>1</td>\n",
       "      <td>20</td>\n",
       "      <td>1</td>\n",
       "      <td>2</td>\n",
       "    </tr>\n",
       "    <tr>\n",
       "      <th>481621</th>\n",
       "      <td>4983c1d0944603c5e93b599df3ad9c33b4863a6250691b...</td>\n",
       "      <td>1/20/21 17:00</td>\n",
       "      <td>30</td>\n",
       "      <td>TRAFFIC SIGNAL</td>\n",
       "      <td>FUNCTIONING PROPERLY</td>\n",
       "      <td>CLEAR</td>\n",
       "      <td>DARKNESS, LIGHTED ROAD</td>\n",
       "      <td>TURNING</td>\n",
       "      <td>FOUR WAY</td>\n",
       "      <td>DRY</td>\n",
       "      <td>...</td>\n",
       "      <td>0.0</td>\n",
       "      <td>0.0</td>\n",
       "      <td>0.0</td>\n",
       "      <td>0.0</td>\n",
       "      <td>17</td>\n",
       "      <td>4</td>\n",
       "      <td>1</td>\n",
       "      <td>18</td>\n",
       "      <td>1</td>\n",
       "      <td>2</td>\n",
       "    </tr>\n",
       "    <tr>\n",
       "      <th>481622</th>\n",
       "      <td>f1dba052d8fc8c80d3d693296ff8e0d7cc71d5929677b0...</td>\n",
       "      <td>1/20/21 17:50</td>\n",
       "      <td>30</td>\n",
       "      <td>NO CONTROLS</td>\n",
       "      <td>NO CONTROLS</td>\n",
       "      <td>CLEAR</td>\n",
       "      <td>DARKNESS, LIGHTED ROAD</td>\n",
       "      <td>REAR END</td>\n",
       "      <td>NOT DIVIDED</td>\n",
       "      <td>DRY</td>\n",
       "      <td>...</td>\n",
       "      <td>0.0</td>\n",
       "      <td>0.0</td>\n",
       "      <td>0.0</td>\n",
       "      <td>0.0</td>\n",
       "      <td>17</td>\n",
       "      <td>4</td>\n",
       "      <td>1</td>\n",
       "      <td>18</td>\n",
       "      <td>1</td>\n",
       "      <td>2</td>\n",
       "    </tr>\n",
       "  </tbody>\n",
       "</table>\n",
       "<p>481623 rows × 30 columns</p>\n",
       "</div>"
      ],
      "text/plain": [
       "                                          CRASH_RECORD_ID     CRASH_DATE  \\\n",
       "0       4fd0a3e0897b3335b94cd8d5b2d2b350eb691add56c62d...  7/10/19 17:56   \n",
       "1       009e9e67203442370272e1a13d6ee51a4155dac65e583d...  6/30/17 16:00   \n",
       "2       ee9283eff3a55ac50ee58f3d9528ce1d689b1c4180b4c4...  7/10/20 10:25   \n",
       "3       f8960f698e870ebdc60b521b2a141a5395556bc3704191...   7/11/20 1:00   \n",
       "4       8eaa2678d1a127804ee9b8c35ddf7d63d913c14eda61d6...   7/8/20 14:00   \n",
       "...                                                   ...            ...   \n",
       "481618  276f2a5ce36d9aa08f7473daaf6b0061615475fc862f0d...   1/18/21 9:00   \n",
       "481619  71a084086041d7adc696d9fd71f3cb2d552b9ce93787ba...  1/19/21 21:23   \n",
       "481620  28c5281550170efd701934c4cd5f8896b96d43c20c152d...  1/20/21 20:20   \n",
       "481621  4983c1d0944603c5e93b599df3ad9c33b4863a6250691b...  1/20/21 17:00   \n",
       "481622  f1dba052d8fc8c80d3d693296ff8e0d7cc71d5929677b0...  1/20/21 17:50   \n",
       "\n",
       "        POSTED_SPEED_LIMIT TRAFFIC_CONTROL_DEVICE      DEVICE_CONDITION  \\\n",
       "0                       35            NO CONTROLS           NO CONTROLS   \n",
       "1                       35      STOP SIGN/FLASHER  FUNCTIONING PROPERLY   \n",
       "2                       30         TRAFFIC SIGNAL  FUNCTIONING PROPERLY   \n",
       "3                       30            NO CONTROLS           NO CONTROLS   \n",
       "4                       20            NO CONTROLS           NO CONTROLS   \n",
       "...                    ...                    ...                   ...   \n",
       "481618                  30            NO CONTROLS           NO CONTROLS   \n",
       "481619                  25            NO CONTROLS               UNKNOWN   \n",
       "481620                  30            NO CONTROLS           NO CONTROLS   \n",
       "481621                  30         TRAFFIC SIGNAL  FUNCTIONING PROPERLY   \n",
       "481622                  30            NO CONTROLS           NO CONTROLS   \n",
       "\n",
       "       WEATHER_CONDITION      LIGHTING_CONDITION      FIRST_CRASH_TYPE  \\\n",
       "0                  CLEAR                DAYLIGHT               TURNING   \n",
       "1                  CLEAR                DAYLIGHT               TURNING   \n",
       "2                  CLEAR                DAYLIGHT              REAR END   \n",
       "3                  CLEAR                DARKNESS  PARKED MOTOR VEHICLE   \n",
       "4                  CLEAR                DAYLIGHT  PARKED MOTOR VEHICLE   \n",
       "...                  ...                     ...                   ...   \n",
       "481618           UNKNOWN                 UNKNOWN  PARKED MOTOR VEHICLE   \n",
       "481619              SNOW                DARKNESS  PARKED MOTOR VEHICLE   \n",
       "481620             CLEAR  DARKNESS, LIGHTED ROAD  PARKED MOTOR VEHICLE   \n",
       "481621             CLEAR  DARKNESS, LIGHTED ROAD               TURNING   \n",
       "481622             CLEAR  DARKNESS, LIGHTED ROAD              REAR END   \n",
       "\n",
       "                        TRAFFICWAY_TYPE ROADWAY_SURFACE_COND  ...  \\\n",
       "0                               ONE-WAY                  DRY  ...   \n",
       "1                           NOT DIVIDED                  DRY  ...   \n",
       "2                              FOUR WAY                  DRY  ...   \n",
       "3       DIVIDED - W/MEDIAN (NOT RAISED)                  DRY  ...   \n",
       "4                              DRIVEWAY                  DRY  ...   \n",
       "...                                 ...                  ...  ...   \n",
       "481618                      NOT DIVIDED              UNKNOWN  ...   \n",
       "481619                          ONE-WAY        SNOW OR SLUSH  ...   \n",
       "481620       DIVIDED - W/MEDIAN BARRIER                  WET  ...   \n",
       "481621                         FOUR WAY                  DRY  ...   \n",
       "481622                      NOT DIVIDED                  DRY  ...   \n",
       "\n",
       "       INJURIES_FATAL INJURIES_INCAPACITATING INJURIES_NON_INCAPACITATING  \\\n",
       "0                 0.0                     0.0                         0.0   \n",
       "1                 0.0                     0.0                         0.0   \n",
       "2                 0.0                     0.0                         0.0   \n",
       "3                 0.0                     0.0                         0.0   \n",
       "4                 0.0                     0.0                         0.0   \n",
       "...               ...                     ...                         ...   \n",
       "481618            0.0                     0.0                         0.0   \n",
       "481619            0.0                     0.0                         0.0   \n",
       "481620            0.0                     0.0                         0.0   \n",
       "481621            0.0                     0.0                         0.0   \n",
       "481622            0.0                     0.0                         0.0   \n",
       "\n",
       "       INJURIES_REPORTED_NOT_EVIDENT CRASH_HOUR CRASH_DAY_OF_WEEK CRASH_MONTH  \\\n",
       "0                                0.0         17                 4           7   \n",
       "1                                0.0         16                 6           6   \n",
       "2                                0.0         10                 6           7   \n",
       "3                                0.0          1                 7           7   \n",
       "4                                0.0         14                 4           7   \n",
       "...                              ...        ...               ...         ...   \n",
       "481618                           0.0          9                 2           1   \n",
       "481619                           0.0         21                 3           1   \n",
       "481620                           0.0         20                 4           1   \n",
       "481621                           0.0         17                 4           1   \n",
       "481622                           0.0         17                 4           1   \n",
       "\n",
       "       POLICE_NOTIFIED_HOUR  POLICE_NOTIFIED_MONTH POLICE_NOTIFIED_DAYOFWEEK  \n",
       "0                        18                      7                         2  \n",
       "1                        16                      6                         4  \n",
       "2                        10                      7                         4  \n",
       "3                         8                      7                         5  \n",
       "4                        14                      7                         2  \n",
       "...                     ...                    ...                       ...  \n",
       "481618                   20                      1                         1  \n",
       "481619                   21                      1                         1  \n",
       "481620                   20                      1                         2  \n",
       "481621                   18                      1                         2  \n",
       "481622                   18                      1                         2  \n",
       "\n",
       "[481623 rows x 30 columns]"
      ]
     },
     "execution_count": 5,
     "metadata": {},
     "output_type": "execute_result"
    }
   ],
   "source": [
    "df['POLICE_NOTIFIED_HOUR'] = pd.to_datetime(df['DATE_POLICE_NOTIFIED']).dt.hour\n",
    "df['POLICE_NOTIFIED_MONTH'] = pd.to_datetime(df['DATE_POLICE_NOTIFIED']).dt.month\n",
    "df['POLICE_NOTIFIED_DAYOFWEEK'] = pd.to_datetime(df['DATE_POLICE_NOTIFIED']).dt.dayofweek\n",
    "\n",
    "df\n"
   ]
  },
  {
   "cell_type": "markdown",
   "metadata": {},
   "source": [
    "------------------------------------------------------\n",
    "3. Insights about the crashes and date/time"
   ]
  },
  {
   "cell_type": "code",
   "execution_count": 6,
   "metadata": {},
   "outputs": [
    {
     "data": {
      "text/plain": [
       "<AxesSubplot:xlabel='Day of week', ylabel='Number of Crashes'>"
      ]
     },
     "execution_count": 6,
     "metadata": {},
     "output_type": "execute_result"
    },
    {
     "data": {
      "image/png": "[encoded data removed]",
      "text/plain": [
       "<Figure size 432x288 with 1 Axes>"
      ]
     },
     "metadata": {
      "needs_background": "light"
     },
     "output_type": "display_data"
    }
   ],
   "source": [
    "#3.1 On the bases of days of week\n",
    "df[\"CRASH_DAY_OF_WEEK\"].value_counts(normalize=False).sort_values(ascending=True).plot.bar(xlabel='Day of week',ylabel='Number of Crashes')"
   ]
  },
  {
   "cell_type": "markdown",
   "metadata": {},
   "source": [
    "3.1 Insights:\n",
    "From the above graph, we can see that the number of crashes is high on the weekends and highest on the 6th day of the week which is a Saturday."
   ]
  },
  {
   "cell_type": "code",
   "execution_count": 7,
   "metadata": {},
   "outputs": [
    {
     "data": {
      "text/plain": [
       "<AxesSubplot:xlabel='Lighting Condition', ylabel='Number of Crashes'>"
      ]
     },
     "execution_count": 7,
     "metadata": {},
     "output_type": "execute_result"
    },
    {
     "data": {
      "image/png": "[encoded data removed]",
      "text/plain": [
       "<Figure size 432x288 with 1 Axes>"
      ]
     },
     "metadata": {
      "needs_background": "light"
     },
     "output_type": "display_data"
    }
   ],
   "source": [
    "#3.2 On the basis of lighting conditions\n",
    "df[\"LIGHTING_CONDITION\"].value_counts(normalize=False).sort_values(ascending=True).plot.bar(xlabel='Lighting Condition',ylabel='Number of Crashes')"
   ]
  },
  {
   "cell_type": "markdown",
   "metadata": {},
   "source": [
    "3.2 Insights:\n",
    "From the above graph, we can see that the number of crashes is highest during the dayight. This might be the case as traffic is highest during the daylight time."
   ]
  },
  {
   "cell_type": "code",
   "execution_count": 8,
   "metadata": {},
   "outputs": [
    {
     "data": {
      "text/plain": [
       "<AxesSubplot:xlabel='Weather Condition', ylabel='Number of Crashes'>"
      ]
     },
     "execution_count": 8,
     "metadata": {},
     "output_type": "execute_result"
    },
    {
     "data": {
      "image/png": "[encoded data removed]",
      "text/plain": [
       "<Figure size 432x288 with 1 Axes>"
      ]
     },
     "metadata": {
      "needs_background": "light"
     },
     "output_type": "display_data"
    }
   ],
   "source": [
    "#3.3 On the basis of Weather Condition\n",
    "df[\"WEATHER_CONDITION\"].value_counts(normalize=False).sort_values(ascending=True).plot.bar(xlabel='Weather Condition',ylabel='Number of Crashes')"
   ]
  },
  {
   "cell_type": "markdown",
   "metadata": {},
   "source": [
    "3.3 Insights:\n",
    "Most of the crashes happend during the clear weather(The weather is clear during most of the year therefore can lead have hgher number). The most important insight is the second most crashes happend during the rain."
   ]
  },
  {
   "cell_type": "code",
   "execution_count": 9,
   "metadata": {},
   "outputs": [
    {
     "data": {
      "text/plain": [
       "<AxesSubplot:xlabel='Crash Hour', ylabel='Number of Crashes'>"
      ]
     },
     "execution_count": 9,
     "metadata": {},
     "output_type": "execute_result"
    },
    {
     "data": {
      "image/png": "[encoded data removed]",
      "text/plain": [
       "<Figure size 432x288 with 1 Axes>"
      ]
     },
     "metadata": {
      "needs_background": "light"
     },
     "output_type": "display_data"
    }
   ],
   "source": [
    "#3.4 On the basis of Crash_Hour\n",
    "df[\"CRASH_HOUR\"].value_counts(normalize=False).sort_values(ascending=True).plot.bar(xlabel='Crash Hour',ylabel='Number of Crashes')"
   ]
  },
  {
   "cell_type": "markdown",
   "metadata": {},
   "source": [
    "#3.4 Insights:\n",
    "This graph shows most of the crashes occrured during 14-17 hour i.e. between 2p.m - 5p.m which is usually the rush hour in the city."
   ]
  },
  {
   "cell_type": "code",
   "execution_count": 10,
   "metadata": {},
   "outputs": [
    {
     "data": {
      "text/plain": [
       "<AxesSubplot:xlabel='Crash Month', ylabel='Number of Crashes'>"
      ]
     },
     "execution_count": 10,
     "metadata": {},
     "output_type": "execute_result"
    },
    {
     "data": {
      "image/png": "[encoded data removed]",
      "text/plain": [
       "<Figure size 432x288 with 1 Axes>"
      ]
     },
     "metadata": {
      "needs_background": "light"
     },
     "output_type": "display_data"
    }
   ],
   "source": [
    "#3.5 On the basis of Crash_Hour\n",
    "df[\"CRASH_MONTH\"].value_counts(normalize=False).sort_values(ascending=True).plot.bar(xlabel='Crash Month',ylabel='Number of Crashes')"
   ]
  },
  {
   "cell_type": "markdown",
   "metadata": {},
   "source": [
    "#3.5 Insights:\n",
    "This graph shows most of the crashes are distributed across the different months and therefore the months don't play a crucial factor while taking the number of crashes in account."
   ]
  },
  {
   "cell_type": "markdown",
   "metadata": {},
   "source": [
    "--------------------------------------------------------------------------------\n",
    "4. Has number of deadly crashes increased recently? Look at the data over the years. Can you identify\n",
    "any significant increase/decrease?"
   ]
  },
  {
   "cell_type": "markdown",
   "metadata": {},
   "source": [
    "Adding CRASH_YEAR as an extra attribute to the data.\n",
    "I have ignored the data where injuries fatal and is blank and 0.\n",
    "\n",
    "I have performed a group by on the CRASH_YEAR and havind a sum of the count of crashes per year."
   ]
  },
  {
   "cell_type": "code",
   "execution_count": 11,
   "metadata": {},
   "outputs": [
    {
     "data": {
      "text/html": [
       "<div>\n",
       "<style scoped>\n",
       "    .dataframe tbody tr th:only-of-type {\n",
       "        vertical-align: middle;\n",
       "    }\n",
       "\n",
       "    .dataframe tbody tr th {\n",
       "        vertical-align: top;\n",
       "    }\n",
       "\n",
       "    .dataframe thead th {\n",
       "        text-align: right;\n",
       "    }\n",
       "</style>\n",
       "<table border=\"1\" class=\"dataframe\">\n",
       "  <thead>\n",
       "    <tr style=\"text-align: right;\">\n",
       "      <th></th>\n",
       "      <th>CRASH_RECORD_ID</th>\n",
       "      <th>CRASH_DATE</th>\n",
       "      <th>POSTED_SPEED_LIMIT</th>\n",
       "      <th>TRAFFIC_CONTROL_DEVICE</th>\n",
       "      <th>DEVICE_CONDITION</th>\n",
       "      <th>WEATHER_CONDITION</th>\n",
       "      <th>LIGHTING_CONDITION</th>\n",
       "      <th>FIRST_CRASH_TYPE</th>\n",
       "      <th>TRAFFICWAY_TYPE</th>\n",
       "      <th>ROADWAY_SURFACE_COND</th>\n",
       "      <th>...</th>\n",
       "      <th>INJURIES_INCAPACITATING</th>\n",
       "      <th>INJURIES_NON_INCAPACITATING</th>\n",
       "      <th>INJURIES_REPORTED_NOT_EVIDENT</th>\n",
       "      <th>CRASH_HOUR</th>\n",
       "      <th>CRASH_DAY_OF_WEEK</th>\n",
       "      <th>CRASH_MONTH</th>\n",
       "      <th>POLICE_NOTIFIED_HOUR</th>\n",
       "      <th>POLICE_NOTIFIED_MONTH</th>\n",
       "      <th>POLICE_NOTIFIED_DAYOFWEEK</th>\n",
       "      <th>CRASH_YEAR</th>\n",
       "    </tr>\n",
       "  </thead>\n",
       "  <tbody>\n",
       "    <tr>\n",
       "      <th>0</th>\n",
       "      <td>4fd0a3e0897b3335b94cd8d5b2d2b350eb691add56c62d...</td>\n",
       "      <td>7/10/19 17:56</td>\n",
       "      <td>35</td>\n",
       "      <td>NO CONTROLS</td>\n",
       "      <td>NO CONTROLS</td>\n",
       "      <td>CLEAR</td>\n",
       "      <td>DAYLIGHT</td>\n",
       "      <td>TURNING</td>\n",
       "      <td>ONE-WAY</td>\n",
       "      <td>DRY</td>\n",
       "      <td>...</td>\n",
       "      <td>0.0</td>\n",
       "      <td>0.0</td>\n",
       "      <td>0.0</td>\n",
       "      <td>17</td>\n",
       "      <td>4</td>\n",
       "      <td>7</td>\n",
       "      <td>18</td>\n",
       "      <td>7</td>\n",
       "      <td>2</td>\n",
       "      <td>2019</td>\n",
       "    </tr>\n",
       "    <tr>\n",
       "      <th>1</th>\n",
       "      <td>009e9e67203442370272e1a13d6ee51a4155dac65e583d...</td>\n",
       "      <td>6/30/17 16:00</td>\n",
       "      <td>35</td>\n",
       "      <td>STOP SIGN/FLASHER</td>\n",
       "      <td>FUNCTIONING PROPERLY</td>\n",
       "      <td>CLEAR</td>\n",
       "      <td>DAYLIGHT</td>\n",
       "      <td>TURNING</td>\n",
       "      <td>NOT DIVIDED</td>\n",
       "      <td>DRY</td>\n",
       "      <td>...</td>\n",
       "      <td>0.0</td>\n",
       "      <td>0.0</td>\n",
       "      <td>0.0</td>\n",
       "      <td>16</td>\n",
       "      <td>6</td>\n",
       "      <td>6</td>\n",
       "      <td>16</td>\n",
       "      <td>6</td>\n",
       "      <td>4</td>\n",
       "      <td>2017</td>\n",
       "    </tr>\n",
       "    <tr>\n",
       "      <th>2</th>\n",
       "      <td>ee9283eff3a55ac50ee58f3d9528ce1d689b1c4180b4c4...</td>\n",
       "      <td>7/10/20 10:25</td>\n",
       "      <td>30</td>\n",
       "      <td>TRAFFIC SIGNAL</td>\n",
       "      <td>FUNCTIONING PROPERLY</td>\n",
       "      <td>CLEAR</td>\n",
       "      <td>DAYLIGHT</td>\n",
       "      <td>REAR END</td>\n",
       "      <td>FOUR WAY</td>\n",
       "      <td>DRY</td>\n",
       "      <td>...</td>\n",
       "      <td>0.0</td>\n",
       "      <td>0.0</td>\n",
       "      <td>0.0</td>\n",
       "      <td>10</td>\n",
       "      <td>6</td>\n",
       "      <td>7</td>\n",
       "      <td>10</td>\n",
       "      <td>7</td>\n",
       "      <td>4</td>\n",
       "      <td>2020</td>\n",
       "    </tr>\n",
       "    <tr>\n",
       "      <th>3</th>\n",
       "      <td>f8960f698e870ebdc60b521b2a141a5395556bc3704191...</td>\n",
       "      <td>7/11/20 1:00</td>\n",
       "      <td>30</td>\n",
       "      <td>NO CONTROLS</td>\n",
       "      <td>NO CONTROLS</td>\n",
       "      <td>CLEAR</td>\n",
       "      <td>DARKNESS</td>\n",
       "      <td>PARKED MOTOR VEHICLE</td>\n",
       "      <td>DIVIDED - W/MEDIAN (NOT RAISED)</td>\n",
       "      <td>DRY</td>\n",
       "      <td>...</td>\n",
       "      <td>0.0</td>\n",
       "      <td>0.0</td>\n",
       "      <td>0.0</td>\n",
       "      <td>1</td>\n",
       "      <td>7</td>\n",
       "      <td>7</td>\n",
       "      <td>8</td>\n",
       "      <td>7</td>\n",
       "      <td>5</td>\n",
       "      <td>2020</td>\n",
       "    </tr>\n",
       "    <tr>\n",
       "      <th>4</th>\n",
       "      <td>8eaa2678d1a127804ee9b8c35ddf7d63d913c14eda61d6...</td>\n",
       "      <td>7/8/20 14:00</td>\n",
       "      <td>20</td>\n",
       "      <td>NO CONTROLS</td>\n",
       "      <td>NO CONTROLS</td>\n",
       "      <td>CLEAR</td>\n",
       "      <td>DAYLIGHT</td>\n",
       "      <td>PARKED MOTOR VEHICLE</td>\n",
       "      <td>DRIVEWAY</td>\n",
       "      <td>DRY</td>\n",
       "      <td>...</td>\n",
       "      <td>0.0</td>\n",
       "      <td>0.0</td>\n",
       "      <td>0.0</td>\n",
       "      <td>14</td>\n",
       "      <td>4</td>\n",
       "      <td>7</td>\n",
       "      <td>14</td>\n",
       "      <td>7</td>\n",
       "      <td>2</td>\n",
       "      <td>2020</td>\n",
       "    </tr>\n",
       "    <tr>\n",
       "      <th>...</th>\n",
       "      <td>...</td>\n",
       "      <td>...</td>\n",
       "      <td>...</td>\n",
       "      <td>...</td>\n",
       "      <td>...</td>\n",
       "      <td>...</td>\n",
       "      <td>...</td>\n",
       "      <td>...</td>\n",
       "      <td>...</td>\n",
       "      <td>...</td>\n",
       "      <td>...</td>\n",
       "      <td>...</td>\n",
       "      <td>...</td>\n",
       "      <td>...</td>\n",
       "      <td>...</td>\n",
       "      <td>...</td>\n",
       "      <td>...</td>\n",
       "      <td>...</td>\n",
       "      <td>...</td>\n",
       "      <td>...</td>\n",
       "      <td>...</td>\n",
       "    </tr>\n",
       "    <tr>\n",
       "      <th>481618</th>\n",
       "      <td>276f2a5ce36d9aa08f7473daaf6b0061615475fc862f0d...</td>\n",
       "      <td>1/18/21 9:00</td>\n",
       "      <td>30</td>\n",
       "      <td>NO CONTROLS</td>\n",
       "      <td>NO CONTROLS</td>\n",
       "      <td>UNKNOWN</td>\n",
       "      <td>UNKNOWN</td>\n",
       "      <td>PARKED MOTOR VEHICLE</td>\n",
       "      <td>NOT DIVIDED</td>\n",
       "      <td>UNKNOWN</td>\n",
       "      <td>...</td>\n",
       "      <td>0.0</td>\n",
       "      <td>0.0</td>\n",
       "      <td>0.0</td>\n",
       "      <td>9</td>\n",
       "      <td>2</td>\n",
       "      <td>1</td>\n",
       "      <td>20</td>\n",
       "      <td>1</td>\n",
       "      <td>1</td>\n",
       "      <td>2021</td>\n",
       "    </tr>\n",
       "    <tr>\n",
       "      <th>481619</th>\n",
       "      <td>71a084086041d7adc696d9fd71f3cb2d552b9ce93787ba...</td>\n",
       "      <td>1/19/21 21:23</td>\n",
       "      <td>25</td>\n",
       "      <td>NO CONTROLS</td>\n",
       "      <td>UNKNOWN</td>\n",
       "      <td>SNOW</td>\n",
       "      <td>DARKNESS</td>\n",
       "      <td>PARKED MOTOR VEHICLE</td>\n",
       "      <td>ONE-WAY</td>\n",
       "      <td>SNOW OR SLUSH</td>\n",
       "      <td>...</td>\n",
       "      <td>0.0</td>\n",
       "      <td>0.0</td>\n",
       "      <td>0.0</td>\n",
       "      <td>21</td>\n",
       "      <td>3</td>\n",
       "      <td>1</td>\n",
       "      <td>21</td>\n",
       "      <td>1</td>\n",
       "      <td>1</td>\n",
       "      <td>2021</td>\n",
       "    </tr>\n",
       "    <tr>\n",
       "      <th>481620</th>\n",
       "      <td>28c5281550170efd701934c4cd5f8896b96d43c20c152d...</td>\n",
       "      <td>1/20/21 20:20</td>\n",
       "      <td>30</td>\n",
       "      <td>NO CONTROLS</td>\n",
       "      <td>NO CONTROLS</td>\n",
       "      <td>CLEAR</td>\n",
       "      <td>DARKNESS, LIGHTED ROAD</td>\n",
       "      <td>PARKED MOTOR VEHICLE</td>\n",
       "      <td>DIVIDED - W/MEDIAN BARRIER</td>\n",
       "      <td>WET</td>\n",
       "      <td>...</td>\n",
       "      <td>0.0</td>\n",
       "      <td>0.0</td>\n",
       "      <td>0.0</td>\n",
       "      <td>20</td>\n",
       "      <td>4</td>\n",
       "      <td>1</td>\n",
       "      <td>20</td>\n",
       "      <td>1</td>\n",
       "      <td>2</td>\n",
       "      <td>2021</td>\n",
       "    </tr>\n",
       "    <tr>\n",
       "      <th>481621</th>\n",
       "      <td>4983c1d0944603c5e93b599df3ad9c33b4863a6250691b...</td>\n",
       "      <td>1/20/21 17:00</td>\n",
       "      <td>30</td>\n",
       "      <td>TRAFFIC SIGNAL</td>\n",
       "      <td>FUNCTIONING PROPERLY</td>\n",
       "      <td>CLEAR</td>\n",
       "      <td>DARKNESS, LIGHTED ROAD</td>\n",
       "      <td>TURNING</td>\n",
       "      <td>FOUR WAY</td>\n",
       "      <td>DRY</td>\n",
       "      <td>...</td>\n",
       "      <td>0.0</td>\n",
       "      <td>0.0</td>\n",
       "      <td>0.0</td>\n",
       "      <td>17</td>\n",
       "      <td>4</td>\n",
       "      <td>1</td>\n",
       "      <td>18</td>\n",
       "      <td>1</td>\n",
       "      <td>2</td>\n",
       "      <td>2021</td>\n",
       "    </tr>\n",
       "    <tr>\n",
       "      <th>481622</th>\n",
       "      <td>f1dba052d8fc8c80d3d693296ff8e0d7cc71d5929677b0...</td>\n",
       "      <td>1/20/21 17:50</td>\n",
       "      <td>30</td>\n",
       "      <td>NO CONTROLS</td>\n",
       "      <td>NO CONTROLS</td>\n",
       "      <td>CLEAR</td>\n",
       "      <td>DARKNESS, LIGHTED ROAD</td>\n",
       "      <td>REAR END</td>\n",
       "      <td>NOT DIVIDED</td>\n",
       "      <td>DRY</td>\n",
       "      <td>...</td>\n",
       "      <td>0.0</td>\n",
       "      <td>0.0</td>\n",
       "      <td>0.0</td>\n",
       "      <td>17</td>\n",
       "      <td>4</td>\n",
       "      <td>1</td>\n",
       "      <td>18</td>\n",
       "      <td>1</td>\n",
       "      <td>2</td>\n",
       "      <td>2021</td>\n",
       "    </tr>\n",
       "  </tbody>\n",
       "</table>\n",
       "<p>481623 rows × 31 columns</p>\n",
       "</div>"
      ],
      "text/plain": [
       "                                          CRASH_RECORD_ID     CRASH_DATE  \\\n",
       "0       4fd0a3e0897b3335b94cd8d5b2d2b350eb691add56c62d...  7/10/19 17:56   \n",
       "1       009e9e67203442370272e1a13d6ee51a4155dac65e583d...  6/30/17 16:00   \n",
       "2       ee9283eff3a55ac50ee58f3d9528ce1d689b1c4180b4c4...  7/10/20 10:25   \n",
       "3       f8960f698e870ebdc60b521b2a141a5395556bc3704191...   7/11/20 1:00   \n",
       "4       8eaa2678d1a127804ee9b8c35ddf7d63d913c14eda61d6...   7/8/20 14:00   \n",
       "...                                                   ...            ...   \n",
       "481618  276f2a5ce36d9aa08f7473daaf6b0061615475fc862f0d...   1/18/21 9:00   \n",
       "481619  71a084086041d7adc696d9fd71f3cb2d552b9ce93787ba...  1/19/21 21:23   \n",
       "481620  28c5281550170efd701934c4cd5f8896b96d43c20c152d...  1/20/21 20:20   \n",
       "481621  4983c1d0944603c5e93b599df3ad9c33b4863a6250691b...  1/20/21 17:00   \n",
       "481622  f1dba052d8fc8c80d3d693296ff8e0d7cc71d5929677b0...  1/20/21 17:50   \n",
       "\n",
       "        POSTED_SPEED_LIMIT TRAFFIC_CONTROL_DEVICE      DEVICE_CONDITION  \\\n",
       "0                       35            NO CONTROLS           NO CONTROLS   \n",
       "1                       35      STOP SIGN/FLASHER  FUNCTIONING PROPERLY   \n",
       "2                       30         TRAFFIC SIGNAL  FUNCTIONING PROPERLY   \n",
       "3                       30            NO CONTROLS           NO CONTROLS   \n",
       "4                       20            NO CONTROLS           NO CONTROLS   \n",
       "...                    ...                    ...                   ...   \n",
       "481618                  30            NO CONTROLS           NO CONTROLS   \n",
       "481619                  25            NO CONTROLS               UNKNOWN   \n",
       "481620                  30            NO CONTROLS           NO CONTROLS   \n",
       "481621                  30         TRAFFIC SIGNAL  FUNCTIONING PROPERLY   \n",
       "481622                  30            NO CONTROLS           NO CONTROLS   \n",
       "\n",
       "       WEATHER_CONDITION      LIGHTING_CONDITION      FIRST_CRASH_TYPE  \\\n",
       "0                  CLEAR                DAYLIGHT               TURNING   \n",
       "1                  CLEAR                DAYLIGHT               TURNING   \n",
       "2                  CLEAR                DAYLIGHT              REAR END   \n",
       "3                  CLEAR                DARKNESS  PARKED MOTOR VEHICLE   \n",
       "4                  CLEAR                DAYLIGHT  PARKED MOTOR VEHICLE   \n",
       "...                  ...                     ...                   ...   \n",
       "481618           UNKNOWN                 UNKNOWN  PARKED MOTOR VEHICLE   \n",
       "481619              SNOW                DARKNESS  PARKED MOTOR VEHICLE   \n",
       "481620             CLEAR  DARKNESS, LIGHTED ROAD  PARKED MOTOR VEHICLE   \n",
       "481621             CLEAR  DARKNESS, LIGHTED ROAD               TURNING   \n",
       "481622             CLEAR  DARKNESS, LIGHTED ROAD              REAR END   \n",
       "\n",
       "                        TRAFFICWAY_TYPE ROADWAY_SURFACE_COND  ...  \\\n",
       "0                               ONE-WAY                  DRY  ...   \n",
       "1                           NOT DIVIDED                  DRY  ...   \n",
       "2                              FOUR WAY                  DRY  ...   \n",
       "3       DIVIDED - W/MEDIAN (NOT RAISED)                  DRY  ...   \n",
       "4                              DRIVEWAY                  DRY  ...   \n",
       "...                                 ...                  ...  ...   \n",
       "481618                      NOT DIVIDED              UNKNOWN  ...   \n",
       "481619                          ONE-WAY        SNOW OR SLUSH  ...   \n",
       "481620       DIVIDED - W/MEDIAN BARRIER                  WET  ...   \n",
       "481621                         FOUR WAY                  DRY  ...   \n",
       "481622                      NOT DIVIDED                  DRY  ...   \n",
       "\n",
       "       INJURIES_INCAPACITATING INJURIES_NON_INCAPACITATING  \\\n",
       "0                          0.0                         0.0   \n",
       "1                          0.0                         0.0   \n",
       "2                          0.0                         0.0   \n",
       "3                          0.0                         0.0   \n",
       "4                          0.0                         0.0   \n",
       "...                        ...                         ...   \n",
       "481618                     0.0                         0.0   \n",
       "481619                     0.0                         0.0   \n",
       "481620                     0.0                         0.0   \n",
       "481621                     0.0                         0.0   \n",
       "481622                     0.0                         0.0   \n",
       "\n",
       "       INJURIES_REPORTED_NOT_EVIDENT CRASH_HOUR CRASH_DAY_OF_WEEK CRASH_MONTH  \\\n",
       "0                                0.0         17                 4           7   \n",
       "1                                0.0         16                 6           6   \n",
       "2                                0.0         10                 6           7   \n",
       "3                                0.0          1                 7           7   \n",
       "4                                0.0         14                 4           7   \n",
       "...                              ...        ...               ...         ...   \n",
       "481618                           0.0          9                 2           1   \n",
       "481619                           0.0         21                 3           1   \n",
       "481620                           0.0         20                 4           1   \n",
       "481621                           0.0         17                 4           1   \n",
       "481622                           0.0         17                 4           1   \n",
       "\n",
       "       POLICE_NOTIFIED_HOUR POLICE_NOTIFIED_MONTH  POLICE_NOTIFIED_DAYOFWEEK  \\\n",
       "0                        18                     7                          2   \n",
       "1                        16                     6                          4   \n",
       "2                        10                     7                          4   \n",
       "3                         8                     7                          5   \n",
       "4                        14                     7                          2   \n",
       "...                     ...                   ...                        ...   \n",
       "481618                   20                     1                          1   \n",
       "481619                   21                     1                          1   \n",
       "481620                   20                     1                          2   \n",
       "481621                   18                     1                          2   \n",
       "481622                   18                     1                          2   \n",
       "\n",
       "       CRASH_YEAR  \n",
       "0            2019  \n",
       "1            2017  \n",
       "2            2020  \n",
       "3            2020  \n",
       "4            2020  \n",
       "...           ...  \n",
       "481618       2021  \n",
       "481619       2021  \n",
       "481620       2021  \n",
       "481621       2021  \n",
       "481622       2021  \n",
       "\n",
       "[481623 rows x 31 columns]"
      ]
     },
     "execution_count": 11,
     "metadata": {},
     "output_type": "execute_result"
    }
   ],
   "source": [
    "df['CRASH_YEAR'] = pd.to_datetime(df['CRASH_DATE']).dt.year\n",
    "df"
   ]
  },
  {
   "cell_type": "code",
   "execution_count": 12,
   "metadata": {},
   "outputs": [
    {
     "data": {
      "image/png": "[encoded data removed]",
      "text/plain": [
       "<Figure size 1080x576 with 1 Axes>"
      ]
     },
     "metadata": {
      "needs_background": "light"
     },
     "output_type": "display_data"
    }
   ],
   "source": [
    "\n",
    "df_deadlycrash = df[df['INJURIES_FATAL'] != 'NA']\n",
    "df_deadlycrash = df_deadlycrash[df_deadlycrash['INJURIES_FATAL'] != 0]\n",
    "plt.figure(figsize=(15,8))\n",
    "s = sns.barplot(data=df_deadlycrash.groupby('CRASH_YEAR')['CRASH_RECORD_ID'].nunique().reset_index(), x='CRASH_YEAR', y='CRASH_RECORD_ID', palette='GnBu_r', linewidth=0)\n",
    "s.set_title('Deadly Crashes over the year', y=1.02, fontsize=14)\n",
    "s.set_xlabel('Year', fontsize=13, labelpad=15)\n",
    "s.set_ylabel('Number of Deadly Crashes', fontsize=13, labelpad=15)\n",
    "plt.show()"
   ]
  },
  {
   "cell_type": "markdown",
   "metadata": {},
   "source": [
    "Insights:\n",
    "The number of deadly crashes have increased from year 2019 to year 2020.\n",
    "There is a significant decrease in deadly crashes from the year 2020 to year 2021."
   ]
  },
  {
   "cell_type": "markdown",
   "metadata": {},
   "source": [
    "---------------------------------------------------------------\n",
    "5. Investigate number and type of injuries based on the speed limit.\n",
    "\n",
    "I have made a group of speed 0-10,10-20....\n",
    "The group will have the total count of crashes in that range of speed and have plotted the graphs accordingly."
   ]
  },
  {
   "cell_type": "code",
   "execution_count": 13,
   "metadata": {},
   "outputs": [
    {
     "data": {
      "text/plain": [
       "Text(0, 0.5, 'Total Injuries')"
      ]
     },
     "execution_count": 13,
     "metadata": {},
     "output_type": "execute_result"
    },
    {
     "data": {
      "image/png": "[encoded data removed]",
      "text/plain": [
       "<Figure size 432x288 with 1 Axes>"
      ]
     },
     "metadata": {
      "needs_background": "light"
     },
     "output_type": "display_data"
    }
   ],
   "source": [
    "df_Injuries = df[df['INJURIES_TOTAL'] != 'NA']\n",
    "pos_count = []\n",
    "speed = [0,10,20,30,40,50,60,70,80,90]\n",
    "for i in range (0,100,10):\n",
    "    y = df_Injuries.loc[df_Injuries['POSTED_SPEED_LIMIT']==i]['INJURIES_TOTAL']\n",
    "    count = 0\n",
    "    for i in y:\n",
    "        if(i!=0):\n",
    "            count += 1\n",
    "    pos_count.append(count)\n",
    "s = sns.barplot(x=speed,y=pos_count)\n",
    "s.set_xlabel('Speed Range', fontsize=13, labelpad=15)\n",
    "s.set_ylabel('Total Injuries', fontsize=13, labelpad=15)\n"
   ]
  },
  {
   "cell_type": "markdown",
   "metadata": {},
   "source": [
    "Insights: As per the above graph, we can observer most of the total injuries occured when the speed was between 30-40mph"
   ]
  },
  {
   "cell_type": "code",
   "execution_count": 14,
   "metadata": {},
   "outputs": [
    {
     "data": {
      "text/plain": [
       "Text(0, 0.5, 'Fatal Injuries')"
      ]
     },
     "execution_count": 14,
     "metadata": {},
     "output_type": "execute_result"
    },
    {
     "data": {
      "image/png": "[encoded data removed]",
      "text/plain": [
       "<Figure size 432x288 with 1 Axes>"
      ]
     },
     "metadata": {
      "needs_background": "light"
     },
     "output_type": "display_data"
    }
   ],
   "source": [
    "df_Injuries_fatal = df[df['INJURIES_FATAL'] != 'NA']\n",
    "pos_count = []\n",
    "speed = [0,10,20,30,40,50,60,70,80,90]\n",
    "for i in range (0,100,10):\n",
    "    y = df_Injuries_fatal.loc[df_Injuries_fatal['POSTED_SPEED_LIMIT']==i]['INJURIES_FATAL']\n",
    "    count = 0\n",
    "    for i in y:\n",
    "        if(i!=0):\n",
    "            count += 1\n",
    "    pos_count.append(count)\n",
    "\n",
    "s=sns.barplot(x=speed,y=pos_count)\n",
    "s.set_xlabel('Speed Range', fontsize=13, labelpad=15)\n",
    "s.set_ylabel('Fatal Injuries', fontsize=13, labelpad=15)"
   ]
  },
  {
   "cell_type": "markdown",
   "metadata": {},
   "source": [
    "Insights: From the above graph, we can observe the Fatal Injuries were highest in the 30-40 bracket."
   ]
  },
  {
   "cell_type": "code",
   "execution_count": 15,
   "metadata": {},
   "outputs": [
    {
     "data": {
      "text/plain": [
       "Text(0, 0.5, 'Incapacitating Injuries')"
      ]
     },
     "execution_count": 15,
     "metadata": {},
     "output_type": "execute_result"
    },
    {
     "data": {
      "image/png": "[encoded data removed]",
      "text/plain": [
       "<Figure size 432x288 with 1 Axes>"
      ]
     },
     "metadata": {
      "needs_background": "light"
     },
     "output_type": "display_data"
    }
   ],
   "source": [
    "df_Injuries_Incap = df[df['INJURIES_INCAPACITATING'] != 'NA']\n",
    "pos_count = []\n",
    "speed = [0,10,20,30,40,50,60,70,80,90]\n",
    "for i in range (0,100,10):\n",
    "    y = df_Injuries_Incap.loc[df_Injuries_Incap['POSTED_SPEED_LIMIT']==i]['INJURIES_INCAPACITATING']\n",
    "    count = 0\n",
    "    for i in y:\n",
    "        if(i!=0):\n",
    "            count += 1\n",
    "    pos_count.append(count)\n",
    "\n",
    "s=sns.barplot(x=speed,y=pos_count)\n",
    "s.set_xlabel('Speed Range', fontsize=13, labelpad=15)\n",
    "s.set_ylabel('Incapacitating Injuries', fontsize=13, labelpad=15)"
   ]
  },
  {
   "cell_type": "markdown",
   "metadata": {},
   "source": [
    "Insights for INJURIES_INCAPACITATING: From the above graph, we can observe the Incapacitating Injuries were highest in the 30-40 bracket.\n"
   ]
  },
  {
   "cell_type": "code",
   "execution_count": 16,
   "metadata": {},
   "outputs": [
    {
     "data": {
      "text/plain": [
       "Text(0, 0.5, 'Non-Incapacitating Injuries')"
      ]
     },
     "execution_count": 16,
     "metadata": {},
     "output_type": "execute_result"
    },
    {
     "data": {
      "image/png": "[encoded data removed]",
      "text/plain": [
       "<Figure size 432x288 with 1 Axes>"
      ]
     },
     "metadata": {
      "needs_background": "light"
     },
     "output_type": "display_data"
    }
   ],
   "source": [
    "df_Injuries_NonIncap = df[df['INJURIES_NON_INCAPACITATING'] != 'NA']\n",
    "pos_count = []\n",
    "speed = [0,10,20,30,40,50,60,70,80,90]\n",
    "for i in range (0,100,10):\n",
    "    y = df_Injuries_NonIncap.loc[df_Injuries_NonIncap['POSTED_SPEED_LIMIT']==i]['INJURIES_NON_INCAPACITATING']\n",
    "    count = 0\n",
    "    for i in y:\n",
    "        if(i!=0):\n",
    "            count += 1\n",
    "    pos_count.append(count)\n",
    "\n",
    "s=sns.barplot(x=speed,y=pos_count)\n",
    "s.set_xlabel('Speed Range', fontsize=13, labelpad=15)\n",
    "s.set_ylabel('Non-Incapacitating Injuries', fontsize=13, labelpad=15)"
   ]
  },
  {
   "cell_type": "markdown",
   "metadata": {},
   "source": [
    "Insights for INJURIES_NON_INCAPACITATING: From the above graph, we can observe the Non-Incapacitating Injuries were highest in the 30-40 bracket."
   ]
  },
  {
   "cell_type": "markdown",
   "metadata": {},
   "source": [
    "Final Insight : All the types of injuries were highest in the speed bracket of 30-40"
   ]
  },
  {
   "cell_type": "markdown",
   "metadata": {},
   "source": [
    "-------------------------------------------------------------------------------\n",
    "6. Is there a relationship between hit and run crashes and number of fatal injuries?\n",
    "\n",
    "I have made a group by on the data on HIT_AND_RUN flag and the Number of fatal Injuries."
   ]
  },
  {
   "cell_type": "code",
   "execution_count": 17,
   "metadata": {},
   "outputs": [
    {
     "data": {
      "text/plain": [
       "HIT_AND_RUN_I  INJURIES_FATAL\n",
       "N              0.0                 6082\n",
       "               1.0                    7\n",
       "Y              0.0               134903\n",
       "               1.0                   71\n",
       "               2.0                    4\n",
       "               3.0                    1\n",
       "Name: COUNTER, dtype: int64"
      ]
     },
     "execution_count": 17,
     "metadata": {},
     "output_type": "execute_result"
    }
   ],
   "source": [
    "from sklearn import preprocessing\n",
    "\n",
    "\n",
    "df_hit = df[df['HIT_AND_RUN_I'] != 'NA']\n",
    "df_hit = df_hit[df_hit['INJURIES_FATAL'] != 'NA']\n",
    "df_hit['COUNTER'] =1\n",
    "df_hit = df_hit.groupby(['HIT_AND_RUN_I','INJURIES_FATAL'])['COUNTER'].sum()\n",
    "df_hit\n",
    "\n"
   ]
  },
  {
   "cell_type": "markdown",
   "metadata": {},
   "source": [
    "From the above table, we can observe the values where crashes are 0 for Y and N Hit&Run flag is way higher. This will result in a not a good visual representation. So I am ignoring the case where fatalities are 0 for both Y and N flag.\n",
    "The new plot will only show the fatalities with the hit and run flag."
   ]
  },
  {
   "cell_type": "code",
   "execution_count": 18,
   "metadata": {},
   "outputs": [
    {
     "name": "stderr",
     "output_type": "stream",
     "text": [
      "C:\\Users\\Dhwanit\\anaconda3\\lib\\site-packages\\seaborn\\_decorators.py:36: FutureWarning: Pass the following variables as keyword args: x, y. From version 0.12, the only valid positional argument will be `data`, and passing other arguments without an explicit keyword will result in an error or misinterpretation.\n",
      "  warnings.warn(\n"
     ]
    },
    {
     "data": {
      "text/plain": [
       "Text(0, 0.5, 'Number of Crashes')"
      ]
     },
     "execution_count": 18,
     "metadata": {},
     "output_type": "execute_result"
    },
    {
     "data": {
      "image/png": "[encoded data removed]",
      "text/plain": [
       "<Figure size 432x288 with 1 Axes>"
      ]
     },
     "metadata": {
      "needs_background": "light"
     },
     "output_type": "display_data"
    }
   ],
   "source": [
    "new_df = []\n",
    "for i, index  in enumerate(df_hit):\n",
    "    if (i != 0 and i !=2):\n",
    "        new_df.append(index)\n",
    "list1 = ['H&R =N,Fatal = 1','H&R =Y,Fatal = 1','H&R = Y,Fatal = 2','H&R = Y,Fatal = 3']\n",
    "\n",
    "s=sns.barplot(list1,new_df)\n",
    "s.set_xlabel('Hit And Run', fontsize=13, labelpad=15)\n",
    "s.set_ylabel('Number of Crashes', fontsize=13, labelpad=15)\n",
    "\n",
    "\n"
   ]
  },
  {
   "cell_type": "markdown",
   "metadata": {},
   "source": [
    "INSIGHTS: \n",
    "Here, we can see if the Hit and Run is 'Y'. Then the number of fatal where only 1 person is fatally injured is very high compared to other data where the fatalities are nearly same, regardless of a hit and run case."
   ]
  },
  {
   "cell_type": "markdown",
   "metadata": {},
   "source": [
    "-----------------------------------------------------------\n",
    "7. Do intersection-related crashes result in more fatal injuries?\n"
   ]
  },
  {
   "cell_type": "code",
   "execution_count": 19,
   "metadata": {},
   "outputs": [
    {
     "data": {
      "text/html": [
       "<div>\n",
       "<style scoped>\n",
       "    .dataframe tbody tr th:only-of-type {\n",
       "        vertical-align: middle;\n",
       "    }\n",
       "\n",
       "    .dataframe tbody tr th {\n",
       "        vertical-align: top;\n",
       "    }\n",
       "\n",
       "    .dataframe thead th {\n",
       "        text-align: right;\n",
       "    }\n",
       "</style>\n",
       "<table border=\"1\" class=\"dataframe\">\n",
       "  <thead>\n",
       "    <tr style=\"text-align: right;\">\n",
       "      <th>INTERSECTION_RELATED_I</th>\n",
       "      <th>N</th>\n",
       "      <th>Y</th>\n",
       "    </tr>\n",
       "    <tr>\n",
       "      <th>INJURIES_FATAL</th>\n",
       "      <th></th>\n",
       "      <th></th>\n",
       "    </tr>\n",
       "  </thead>\n",
       "  <tbody>\n",
       "    <tr>\n",
       "      <th>0.0</th>\n",
       "      <td>5108.0</td>\n",
       "      <td>103364.0</td>\n",
       "    </tr>\n",
       "    <tr>\n",
       "      <th>1.0</th>\n",
       "      <td>10.0</td>\n",
       "      <td>133.0</td>\n",
       "    </tr>\n",
       "    <tr>\n",
       "      <th>2.0</th>\n",
       "      <td>0.0</td>\n",
       "      <td>14.0</td>\n",
       "    </tr>\n",
       "    <tr>\n",
       "      <th>3.0</th>\n",
       "      <td>0.0</td>\n",
       "      <td>2.0</td>\n",
       "    </tr>\n",
       "  </tbody>\n",
       "</table>\n",
       "</div>"
      ],
      "text/plain": [
       "INTERSECTION_RELATED_I       N         Y\n",
       "INJURIES_FATAL                          \n",
       "0.0                     5108.0  103364.0\n",
       "1.0                       10.0     133.0\n",
       "2.0                        0.0      14.0\n",
       "3.0                        0.0       2.0"
      ]
     },
     "execution_count": 19,
     "metadata": {},
     "output_type": "execute_result"
    }
   ],
   "source": [
    "df_INTERSECTION = df[df['INTERSECTION_RELATED_I'] != 'NA']\n",
    "df_INTERSECTION = df_INTERSECTION[df_INTERSECTION['INJURIES_FATAL'] != 'NA']\n",
    "#df_INTERSECTION = df_INTERSECTION[df_INTERSECTION['INJURIES_FATAL'] != 0]\n",
    "\n",
    "\n",
    "df_INTERSECTION['COUNTER'] =1\n",
    "df_INTERSECTION = df_INTERSECTION.groupby(['INTERSECTION_RELATED_I','INJURIES_FATAL'])['COUNTER'].sum().unstack('INTERSECTION_RELATED_I')\n",
    "df_INTERSECTION.fillna(0,inplace=True)\n",
    "df_INTERSECTION\n"
   ]
  },
  {
   "cell_type": "markdown",
   "metadata": {},
   "source": [
    "From the above table, we can observe the values for 0 injuries is very high. Therefore it will lead to incorrect visualization due to such different min,max of the values. The graph is plotted below:"
   ]
  },
  {
   "cell_type": "code",
   "execution_count": 20,
   "metadata": {},
   "outputs": [
    {
     "data": {
      "text/plain": [
       "<AxesSubplot:xlabel='Number of Fatal Injuries', ylabel='Number of crashes'>"
      ]
     },
     "execution_count": 20,
     "metadata": {},
     "output_type": "execute_result"
    },
    {
     "data": {
      "image/png": "[encoded data removed]",
      "text/plain": [
       "<Figure size 432x288 with 1 Axes>"
      ]
     },
     "metadata": {
      "needs_background": "light"
     },
     "output_type": "display_data"
    }
   ],
   "source": [
    "df_INTERSECTION.plot.bar(xlabel = 'Number of Fatal Injuries',ylabel = 'Number of crashes')\n"
   ]
  },
  {
   "cell_type": "markdown",
   "metadata": {},
   "source": [
    "Insights: From the table and the graph, we can observe that the fatalities at intersection are very low compared to non-fatal accidents. \n",
    "\n",
    "Now to compare a graph, taking only accidents where there were actual fatal injuries:"
   ]
  },
  {
   "cell_type": "code",
   "execution_count": 21,
   "metadata": {},
   "outputs": [
    {
     "data": {
      "text/html": [
       "<div>\n",
       "<style scoped>\n",
       "    .dataframe tbody tr th:only-of-type {\n",
       "        vertical-align: middle;\n",
       "    }\n",
       "\n",
       "    .dataframe tbody tr th {\n",
       "        vertical-align: top;\n",
       "    }\n",
       "\n",
       "    .dataframe thead th {\n",
       "        text-align: right;\n",
       "    }\n",
       "</style>\n",
       "<table border=\"1\" class=\"dataframe\">\n",
       "  <thead>\n",
       "    <tr style=\"text-align: right;\">\n",
       "      <th>INTERSECTION_RELATED_I</th>\n",
       "      <th>N</th>\n",
       "      <th>Y</th>\n",
       "    </tr>\n",
       "    <tr>\n",
       "      <th>INJURIES_FATAL</th>\n",
       "      <th></th>\n",
       "      <th></th>\n",
       "    </tr>\n",
       "  </thead>\n",
       "  <tbody>\n",
       "    <tr>\n",
       "      <th>1.0</th>\n",
       "      <td>10.0</td>\n",
       "      <td>133.0</td>\n",
       "    </tr>\n",
       "    <tr>\n",
       "      <th>2.0</th>\n",
       "      <td>0.0</td>\n",
       "      <td>14.0</td>\n",
       "    </tr>\n",
       "    <tr>\n",
       "      <th>3.0</th>\n",
       "      <td>0.0</td>\n",
       "      <td>2.0</td>\n",
       "    </tr>\n",
       "  </tbody>\n",
       "</table>\n",
       "</div>"
      ],
      "text/plain": [
       "INTERSECTION_RELATED_I     N      Y\n",
       "INJURIES_FATAL                     \n",
       "1.0                     10.0  133.0\n",
       "2.0                      0.0   14.0\n",
       "3.0                      0.0    2.0"
      ]
     },
     "execution_count": 21,
     "metadata": {},
     "output_type": "execute_result"
    }
   ],
   "source": [
    "df_INTERSECTION_FATAL = df[df['INTERSECTION_RELATED_I'] != 'NA']\n",
    "df_INTERSECTION_FATAL = df_INTERSECTION_FATAL[df_INTERSECTION_FATAL['INJURIES_FATAL'] != 'NA']\n",
    "df_INTERSECTION_FATAL = df_INTERSECTION_FATAL[df_INTERSECTION_FATAL['INJURIES_FATAL'] != 0]\n",
    "\n",
    "\n",
    "df_INTERSECTION_FATAL['COUNTER'] =1\n",
    "df_INTERSECTION_FATAL = df_INTERSECTION_FATAL.groupby(['INTERSECTION_RELATED_I','INJURIES_FATAL'])['COUNTER'].sum().unstack('INTERSECTION_RELATED_I')\n",
    "df_INTERSECTION_FATAL.fillna(0,inplace=True)\n",
    "df_INTERSECTION_FATAL"
   ]
  },
  {
   "cell_type": "code",
   "execution_count": 22,
   "metadata": {},
   "outputs": [
    {
     "data": {
      "text/plain": [
       "<AxesSubplot:xlabel='Number of fatal injury', ylabel='Count'>"
      ]
     },
     "execution_count": 22,
     "metadata": {},
     "output_type": "execute_result"
    },
    {
     "data": {
      "image/png": "[encoded data removed]",
      "text/plain": [
       "<Figure size 432x288 with 1 Axes>"
      ]
     },
     "metadata": {
      "needs_background": "light"
     },
     "output_type": "display_data"
    }
   ],
   "source": [
    "df_INTERSECTION_FATAL.plot.bar(xlabel = 'Number of fatal injury', ylabel = 'Count')"
   ]
  },
  {
   "cell_type": "markdown",
   "metadata": {},
   "source": [
    "In this graph, we can see that the crashes with more than 1 fatality only occured on the intersections."
   ]
  },
  {
   "cell_type": "markdown",
   "metadata": {},
   "source": [
    "---------------------------------------------------------------------\n",
    "8. Personal Insights"
   ]
  },
  {
   "cell_type": "markdown",
   "metadata": {},
   "source": [
    "8.1 On the basis of Traffic Control Device"
   ]
  },
  {
   "cell_type": "code",
   "execution_count": 23,
   "metadata": {},
   "outputs": [
    {
     "data": {
      "text/plain": [
       "<AxesSubplot:ylabel='Number of Crashes'>"
      ]
     },
     "execution_count": 23,
     "metadata": {},
     "output_type": "execute_result"
    },
    {
     "data": {
      "image/png": "[encoded data removed]",
      "text/plain": [
       "<Figure size 432x288 with 1 Axes>"
      ]
     },
     "metadata": {
      "needs_background": "light"
     },
     "output_type": "display_data"
    }
   ],
   "source": [
    "df[\"TRAFFIC_CONTROL_DEVICE\"].value_counts(normalize=False).sort_values(ascending=True).plot.bar(ylabel = 'Number of Crashes')"
   ]
  },
  {
   "cell_type": "markdown",
   "metadata": {},
   "source": [
    "Insights : We can observe that the most of the accidents occured when there was no controls on the traffic. \n",
    "The second highest occured on the traffic signals."
   ]
  },
  {
   "cell_type": "markdown",
   "metadata": {},
   "source": [
    "8.2 When the Primary contribution cause is weather:"
   ]
  },
  {
   "cell_type": "code",
   "execution_count": 24,
   "metadata": {},
   "outputs": [
    {
     "data": {
      "text/plain": [
       "<AxesSubplot:ylabel='Number of Crashes'>"
      ]
     },
     "execution_count": 24,
     "metadata": {},
     "output_type": "execute_result"
    },
    {
     "data": {
      "image/png": "[encoded data removed]",
      "text/plain": [
       "<Figure size 432x288 with 1 Axes>"
      ]
     },
     "metadata": {
      "needs_background": "light"
     },
     "output_type": "display_data"
    }
   ],
   "source": [
    "df_WEATHER = df[df['PRIM_CONTRIBUTORY_CAUSE'] == 'WEATHER']\n",
    "df_WEATHER[\"WEATHER_CONDITION\"].value_counts(normalize=False).sort_values(ascending=True).plot.bar(ylabel = 'Number of Crashes')\n"
   ]
  },
  {
   "cell_type": "markdown",
   "metadata": {},
   "source": [
    "Insight : Most of the accident occured when there was snowy weather.\n",
    "The second major cause was rain."
   ]
  },
  {
   "cell_type": "markdown",
   "metadata": {},
   "source": [
    "8.3 Accident caused when Traffic Control Device = Traffic Signal in different lighting conditions and time of hour"
   ]
  },
  {
   "cell_type": "code",
   "execution_count": 25,
   "metadata": {},
   "outputs": [
    {
     "data": {
      "text/plain": [
       "<AxesSubplot:ylabel='Number of Crashes'>"
      ]
     },
     "execution_count": 25,
     "metadata": {},
     "output_type": "execute_result"
    },
    {
     "data": {
      "image/png": "[encoded data removed]",
      "text/plain": [
       "<Figure size 432x288 with 1 Axes>"
      ]
     },
     "metadata": {
      "needs_background": "light"
     },
     "output_type": "display_data"
    }
   ],
   "source": [
    "df_TDC = df[df['TRAFFIC_CONTROL_DEVICE'] == 'TRAFFIC SIGNAL']\n",
    "\n",
    "df_TDC[\"LIGHTING_CONDITION\"].value_counts(normalize=False).sort_values(ascending=True).plot.bar(ylabel = 'Number of Crashes')\n"
   ]
  },
  {
   "cell_type": "code",
   "execution_count": 26,
   "metadata": {},
   "outputs": [
    {
     "data": {
      "text/plain": [
       "<AxesSubplot:xlabel='Crash Hour', ylabel='Number of Crashes'>"
      ]
     },
     "execution_count": 26,
     "metadata": {},
     "output_type": "execute_result"
    },
    {
     "data": {
      "image/png": "[encoded data removed]",
      "text/plain": [
       "<Figure size 432x288 with 1 Axes>"
      ]
     },
     "metadata": {
      "needs_background": "light"
     },
     "output_type": "display_data"
    }
   ],
   "source": [
    "df_TDC[\"CRASH_HOUR\"].value_counts(normalize=False).sort_values(ascending=True).plot.bar(ylabel = 'Number of Crashes',xlabel = 'Crash Hour')\n"
   ]
  },
  {
   "cell_type": "markdown",
   "metadata": {},
   "source": [
    "Insights : Most accidents occured in daylight which is normal due to heavy traffic on that time.\n",
    "The second most highest occured when there was darkness and the road was lighted when compared to simple darkness. \n",
    "This can mean lighted roads can cause issues while observing the traffic lights while driving\n",
    "\n",
    "THe second insight show the max accidents occured during 3-5 P.M. This is usually the rush hour therefore time and traffic lights usually have no connection in crashes. "
   ]
  }
 ],
 "metadata": {
  "interpreter": {
   "hash": "6251661a35404c2945f8177f9826e9c7385b1cd1b61b140e5382616982f21874"
  },
  "kernelspec": {
   "display_name": "Python 3.8.8 64-bit ('base': conda)",
   "name": "python3"
  },
  "language_info": {
   "codemirror_mode": {
    "name": "ipython",
    "version": 3
   },
   "file_extension": ".py",
   "mimetype": "text/x-python",
   "name": "python",
   "nbconvert_exporter": "python",
   "pygments_lexer": "ipython3",
   "version": "3.8.8"
  },
  "orig_nbformat": 4
 },
 "nbformat": 4,
 "nbformat_minor": 2
}
